{
 "cells": [
  {
   "cell_type": "code",
   "execution_count": 1,
   "id": "3005f9cc-dd38-4129-809c-1a49d401b9a8",
   "metadata": {},
   "outputs": [],
   "source": [
    "import gymnasium as gym"
   ]
  },
  {
   "cell_type": "code",
   "execution_count": 2,
   "id": "f65608b7-fa6e-4bba-85a8-0209750bfc05",
   "metadata": {},
   "outputs": [],
   "source": [
    "space1 = gym.spaces.Discrete(10)"
   ]
  },
  {
   "cell_type": "code",
   "execution_count": 3,
   "id": "fc0bd7fb-8a0c-43b0-9b03-fe0f37189e9a",
   "metadata": {},
   "outputs": [
    {
     "data": {
      "text/plain": [
       "(True, False)"
      ]
     },
     "execution_count": 3,
     "metadata": {},
     "output_type": "execute_result"
    }
   ],
   "source": [
    "space1.contains(3), space1.contains(13)"
   ]
  },
  {
   "cell_type": "code",
   "execution_count": 4,
   "id": "1e4aa89b-230d-4aad-87ce-f77957b3b694",
   "metadata": {},
   "outputs": [],
   "source": [
    "space2 = gym.spaces.MultiBinary(10)"
   ]
  },
  {
   "cell_type": "code",
   "execution_count": 7,
   "id": "0f00500e-9a64-46e4-ac69-1b754aa0149b",
   "metadata": {},
   "outputs": [
    {
     "data": {
      "text/plain": [
       "True"
      ]
     },
     "execution_count": 7,
     "metadata": {},
     "output_type": "execute_result"
    }
   ],
   "source": [
    "space2.contains([False] * 10)"
   ]
  },
  {
   "cell_type": "code",
   "execution_count": 8,
   "id": "13c07782-138e-4b36-999b-37723a561395",
   "metadata": {},
   "outputs": [],
   "source": [
    "space3 = gym.spaces.MultiBinary([10, 10])"
   ]
  },
  {
   "cell_type": "code",
   "execution_count": 9,
   "id": "6e03464b-3056-49eb-84c3-dc1dc242b77f",
   "metadata": {},
   "outputs": [
    {
     "data": {
      "text/plain": [
       "True"
      ]
     },
     "execution_count": 9,
     "metadata": {},
     "output_type": "execute_result"
    }
   ],
   "source": [
    "space3.contains([[False] * 10] * 10)"
   ]
  },
  {
   "cell_type": "code",
   "execution_count": 10,
   "id": "4289fa89-e909-4dfa-9dce-8d0ebf256d2b",
   "metadata": {},
   "outputs": [],
   "source": [
    "import numpy as np"
   ]
  },
  {
   "cell_type": "code",
   "execution_count": 11,
   "id": "4d45323b-9bfa-48aa-95a4-23a9b64f904a",
   "metadata": {},
   "outputs": [
    {
     "data": {
      "text/plain": [
       "True"
      ]
     },
     "execution_count": 11,
     "metadata": {},
     "output_type": "execute_result"
    }
   ],
   "source": [
    "space3.contains(np.zeros((10, 10), dtype=bool))"
   ]
  },
  {
   "cell_type": "code",
   "execution_count": 13,
   "id": "da908518-acfc-4268-8a66-712fcd16f91d",
   "metadata": {},
   "outputs": [],
   "source": [
    "space4 = gym.spaces.Dict({\n",
    "    'space1': space1,\n",
    "    'space2': space2,\n",
    "    'space3': space3\n",
    "})"
   ]
  },
  {
   "cell_type": "code",
   "execution_count": 14,
   "id": "c72e6fa0-dded-4d07-a877-2f53ad61e1e9",
   "metadata": {},
   "outputs": [
    {
     "data": {
      "text/plain": [
       "True"
      ]
     },
     "execution_count": 14,
     "metadata": {},
     "output_type": "execute_result"
    }
   ],
   "source": [
    "space4.contains({\n",
    "    'space1': 3,\n",
    "    'space2': [False] * 10,\n",
    "    'space3': np.zeros((10, 10), dtype=bool)\n",
    "})"
   ]
  },
  {
   "cell_type": "code",
   "execution_count": 15,
   "id": "1ee5112c-8092-45b6-9acc-c97728c1107b",
   "metadata": {},
   "outputs": [],
   "source": [
    "obs_space = dict(\n",
    "  board = gym.spaces.MultiBinary([8, 8]),\n",
    "  player = gym.spaces.Tuple([gym.spaces.Discrete(8)] * 2),\n",
    "  other_player = gym.spaces.Tuple([gym.spaces.Discrete(8)] * 2)\n",
    ")    \n",
    "\n",
    "observation_space = gym.spaces.Dict(spaces=obs_space)"
   ]
  },
  {
   "cell_type": "code",
   "execution_count": 21,
   "id": "81c438ec-b29c-45fa-9b84-6fae3616ab00",
   "metadata": {},
   "outputs": [
    {
     "data": {
      "text/plain": [
       "True"
      ]
     },
     "execution_count": 21,
     "metadata": {},
     "output_type": "execute_result"
    }
   ],
   "source": [
    "observation_space.contains({\n",
    "    'board': np.zeros((8, 8), dtype=bool),\n",
    "    'player': (0, 0),\n",
    "    'other_player': (7, 7)\n",
    "})"
   ]
  },
  {
   "cell_type": "code",
   "execution_count": 16,
   "id": "53ac79f7-3755-4e63-90cd-6f425335dd47",
   "metadata": {},
   "outputs": [],
   "source": [
    "space5 = gym.spaces.Tuple([gym.spaces.Discrete(8)] * 2)"
   ]
  },
  {
   "cell_type": "code",
   "execution_count": 20,
   "id": "af3ffd1a-721a-482a-af32-a5ba3c5ad63c",
   "metadata": {},
   "outputs": [
    {
     "data": {
      "text/plain": [
       "(True, True)"
      ]
     },
     "execution_count": 20,
     "metadata": {},
     "output_type": "execute_result"
    }
   ],
   "source": [
    "space5.contains((0, 0)), space5.contains((7, 7)) "
   ]
  },
  {
   "cell_type": "code",
   "execution_count": null,
   "id": "75340041-6398-47fa-84d8-30f425547895",
   "metadata": {},
   "outputs": [],
   "source": []
  }
 ],
 "metadata": {
  "kernelspec": {
   "display_name": "Python 3 (ipykernel)",
   "language": "python",
   "name": "python3"
  },
  "language_info": {
   "codemirror_mode": {
    "name": "ipython",
    "version": 3
   },
   "file_extension": ".py",
   "mimetype": "text/x-python",
   "name": "python",
   "nbconvert_exporter": "python",
   "pygments_lexer": "ipython3",
   "version": "3.8.10"
  }
 },
 "nbformat": 4,
 "nbformat_minor": 5
}
