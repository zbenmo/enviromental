{
 "cells": [
  {
   "cell_type": "code",
   "execution_count": 1,
   "id": "d2363df8-0c2b-498a-babd-eed4b58f2c26",
   "metadata": {},
   "outputs": [],
   "source": [
    "import gym\n",
    "import qwertyenv\n",
    "from stable_baselines3 import PPO\n",
    "from stable_baselines3.ppo.policies import MultiInputPolicy\n",
    "from stable_baselines3.common.evaluation import evaluate_policy"
   ]
  },
  {
   "cell_type": "code",
   "execution_count": 2,
   "id": "67bd5314-1e84-4396-94b8-ed3579aedbe7",
   "metadata": {},
   "outputs": [],
   "source": [
    "action = None\n",
    "\n",
    "env = gym.make('qwertyenv/CollectCoins-v0', pieces=['rock', 'rock'])\n",
    "\n",
    "def another_action_taken(action_taken):\n",
    "    global action\n",
    "    action = action_taken\n",
    "\n",
    "# Wrapping the original environment as to make sure a valid action will be taken.\n",
    "env = qwertyenv.EnsureValidAction(\n",
    "  env,\n",
    "  env.check_action_valid,\n",
    "  env.provide_alternative_valid_action,\n",
    "  another_action_taken\n",
    ")\n",
    "\n",
    "env = qwertyenv.UpDownLeftRight(env, lambda: env.game.locations[0])\n",
    "\n",
    "agent_w = PPO(MultiInputPolicy, env)"
   ]
  },
  {
   "cell_type": "code",
   "execution_count": 3,
   "id": "37dcce7a-39ec-4869-b42e-3dbb85e1a369",
   "metadata": {},
   "outputs": [
    {
     "data": {
      "text/html": [
       "<pre style=\"white-space:pre;overflow-x:auto;line-height:normal;font-family:Menlo,'DejaVu Sans Mono',consolas,'Courier New',monospace\"></pre>\n"
      ],
      "text/plain": [
       "\u001b[?25l"
      ]
     },
     "metadata": {},
     "output_type": "display_data"
    },
    {
     "data": {
      "application/vnd.jupyter.widget-view+json": {
       "model_id": "b98a38ccad5e45a9a31acfd7702a7ed7",
       "version_major": 2,
       "version_minor": 0
      },
      "text/plain": [
       "Output()"
      ]
     },
     "metadata": {},
     "output_type": "display_data"
    },
    {
     "data": {
      "text/html": [
       "<pre style=\"white-space:pre;overflow-x:auto;line-height:normal;font-family:Menlo,'DejaVu Sans Mono',consolas,'Courier New',monospace\">\n",
       "</pre>\n"
      ],
      "text/plain": [
       "\n",
       "\u001b[?25h"
      ]
     },
     "metadata": {},
     "output_type": "display_data"
    },
    {
     "data": {
      "text/plain": [
       "<stable_baselines3.ppo.ppo.PPO at 0x7f2470dfa6a0>"
      ]
     },
     "execution_count": 3,
     "metadata": {},
     "output_type": "execute_result"
    }
   ],
   "source": [
    "agent_w.learn(total_timesteps=int(2e5), progress_bar=True)"
   ]
  },
  {
   "cell_type": "code",
   "execution_count": 4,
   "id": "0bfd6c45-2d29-4a60-9f66-c49bd24a2688",
   "metadata": {},
   "outputs": [
    {
     "name": "stderr",
     "output_type": "stream",
     "text": [
      "/home/oren/projects/qwertyenv/venv/lib/python3.8/site-packages/stable_baselines3/common/evaluation.py:67: UserWarning: Evaluation environment is not wrapped with a ``Monitor`` wrapper. This may result in reporting modified episode lengths and rewards, if other wrappers happen to modify these. Consider wrapping environment first with ``Monitor`` wrapper.\n",
      "  warnings.warn(\n"
     ]
    },
    {
     "name": "stdout",
     "output_type": "stream",
     "text": [
      "mean_reward=1.1739999916404487, std_reward=0.4016017927420893\n"
     ]
    }
   ],
   "source": [
    "mean_reward, std_reward = evaluate_policy(agent_w, env, deterministic=True)\n",
    "print(f'{mean_reward=}, {std_reward=}')"
   ]
  },
  {
   "cell_type": "code",
   "execution_count": null,
   "id": "4eeac04d-ce26-4822-8135-18476a6e6cb6",
   "metadata": {},
   "outputs": [],
   "source": []
  }
 ],
 "metadata": {
  "kernelspec": {
   "display_name": "Python 3 (ipykernel)",
   "language": "python",
   "name": "python3"
  },
  "language_info": {
   "codemirror_mode": {
    "name": "ipython",
    "version": 3
   },
   "file_extension": ".py",
   "mimetype": "text/x-python",
   "name": "python",
   "nbconvert_exporter": "python",
   "pygments_lexer": "ipython3",
   "version": "3.8.10"
  }
 },
 "nbformat": 4,
 "nbformat_minor": 5
}
